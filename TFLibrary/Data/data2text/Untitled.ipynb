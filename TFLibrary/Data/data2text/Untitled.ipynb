{
 "cells": [
  {
   "cell_type": "code",
   "execution_count": 1,
   "metadata": {},
   "outputs": [
    {
     "name": "stderr",
     "output_type": "stream",
     "text": [
      "/usr/local/lib/python3.6/site-packages/h5py/__init__.py:36: FutureWarning: Conversion of the second argument of issubdtype from `float` to `np.floating` is deprecated. In future, it will be treated as `np.float64 == np.dtype(float).type`.\n",
      "  from ._conv import register_converters as _register_converters\n"
     ]
    }
   ],
   "source": [
    "import json\n",
    "import codecs\n",
    "from TFLibrary.Data.data2text import utils\n",
    "from TFLibrary.Data.data2text import original_data_utils as orig_utils"
   ]
  },
  {
   "cell_type": "code",
   "execution_count": null,
   "metadata": {},
   "outputs": [],
   "source": []
  },
  {
   "cell_type": "code",
   "execution_count": 2,
   "metadata": {},
   "outputs": [],
   "source": [
    "# my implementation\n",
    "json_file = \"/Users/AlexGuo/Downloads/boxscore-data/rotowire/train.json\"\n",
    "with codecs.open(json_file, \"r\", \"utf-8\") as f:\n",
    "    train_data = json.load(f)\n",
    "\n",
    "\n",
    "(actual_all_entities,\n",
    " actual_players,\n",
    " actual_teams,\n",
    " actual_cities) = utils.extract_entities_from_json(json_file, lower=False)\n",
    "\n",
    "# original implementation\n",
    "(expected_all_ents,\n",
    " expected_players,\n",
    " expected_teams,\n",
    " expected_cities) = orig_utils.get_ents(train_data)"
   ]
  },
  {
   "cell_type": "code",
   "execution_count": 3,
   "metadata": {},
   "outputs": [
    {
     "name": "stdout",
     "output_type": "stream",
     "text": [
      "PASSED\n",
      "PASSED\n",
      "PASSED\n",
      "PASSED\n"
     ]
    }
   ],
   "source": [
    "from TFLibrary.utils import test_utils\n",
    "test_utils.check_set_equality(actual_all_entities, expected_all_ents)\n",
    "test_utils.check_set_equality(actual_players, expected_players)\n",
    "test_utils.check_set_equality(actual_teams, expected_teams)\n",
    "test_utils.check_set_equality(actual_cities, actual_cities)"
   ]
  },
  {
   "cell_type": "code",
   "execution_count": null,
   "metadata": {},
   "outputs": [],
   "source": []
  },
  {
   "cell_type": "code",
   "execution_count": 4,
   "metadata": {},
   "outputs": [],
   "source": [
    "json_file = \"/Users/AlexGuo/Downloads/boxscore-data/rotowire/train.json\"\n",
    "val_json_file = \"/Users/AlexGuo/Downloads/boxscore-data/rotowire/valid.json\"\n",
    "with codecs.open(json_file, \"r\", \"utf-8\") as f:\n",
    "    train_data = json.load(f)\n",
    "with codecs.open(val_json_file, \"r\", \"utf-8\") as f:\n",
    "    val_data = json.load(f)\n",
    "# not sure why these two files are the same ?\n",
    "with codecs.open(val_json_file, \"r\", \"utf-8\") as f:\n",
    "    test_data = json.load(f)"
   ]
  },
  {
   "cell_type": "code",
   "execution_count": 5,
   "metadata": {},
   "outputs": [],
   "source": [
    "actual_extracted = []\n",
    "for dataset in [train_data, val_data]:\n",
    "    actual_nugz = []\n",
    "    for entry in dataset:\n",
    "        _nugz = utils.process_candidate_rels(\n",
    "            entry=entry,\n",
    "            summary=\" \".join(entry[\"summary\"]),\n",
    "            all_entities=actual_all_entities,\n",
    "            pronouns=orig_utils.prons,\n",
    "            players=actual_players,\n",
    "            teams=actual_teams,\n",
    "            cities=actual_cities)\n",
    "\n",
    "        actual_nugz += (_nugz)\n",
    "    actual_extracted.append(actual_nugz)\n",
    "\n",
    "\n",
    "# original implementation\n",
    "expected_extracted_stuff = []\n",
    "datasets = [train_data, val_data, test_data]\n",
    "for dataset in datasets:\n",
    "    expected_nugz = []\n",
    "    for i, entry in enumerate(dataset):\n",
    "        summ = \" \".join(entry['summary'])\n",
    "        orig_utils.append_candidate_rels(\n",
    "            entry, summ,\n",
    "            expected_all_ents,\n",
    "            orig_utils.prons,\n",
    "            expected_players,\n",
    "            expected_teams,\n",
    "            expected_cities,\n",
    "            expected_nugz)\n",
    "\n",
    "    expected_extracted_stuff.append(expected_nugz)"
   ]
  },
  {
   "cell_type": "code",
   "execution_count": 110,
   "metadata": {},
   "outputs": [],
   "source": [
    "# recursively check for equalities\n",
    "for extracted_a, extracted_b in zip(\n",
    "        actual_extracted, expected_extracted_stuff):\n",
    "    if len(extracted_a) != len(extracted_b):\n",
    "        raise AssertionError(\"number of extratced pairs are different\")\n",
    "\n",
    "    # for all relations in each dataset\n",
    "    for relations_a, relations_b in zip(extracted_a, extracted_b):\n",
    "        if not isinstance(relations_a, utils.CandidateRelations):\n",
    "            raise TypeError\n",
    "        if len(relations_b) != 2:\n",
    "            raise AssertionError\n",
    "        if relations_a.Tokens != relations_b[0]:\n",
    "            raise AssertionError(\"Tokens are different\")\n",
    "\n",
    "        # relations\n",
    "        if len(relations_a.Relations) != len(relations_b[1]):\n",
    "            raise AssertionError(\"Number of relations are different\")\n",
    "\n",
    "        # for each relationship pair\n",
    "        for rel_a, rel_b in zip(relations_a.Relations, relations_b[1]):\n",
    "            if not isinstance(rel_a, utils.RelationEntry):\n",
    "                raise TypeError\n",
    "            if len(rel_b) != 4:\n",
    "                raise AssertionError\n",
    "\n",
    "            if tuple(rel_a.Entity) != rel_b[0]:\n",
    "                raise AssertionError(\"EntityEntry are different\")\n",
    "            if tuple(rel_a.Number) != rel_b[1]:\n",
    "                raise AssertionError(\"NumberEntry are different\")\n",
    "            if rel_a.Label != rel_b[2]:\n",
    "                raise AssertionError(\"Label are different\")\n",
    "            if rel_a.PlayerID_or_TeamIsHome != rel_b[3]:\n",
    "                raise AssertionError(\"PlayerID_or_TeamIsHome are different\")\n"
   ]
  },
  {
   "cell_type": "code",
   "execution_count": null,
   "metadata": {},
   "outputs": [],
   "source": []
  },
  {
   "cell_type": "code",
   "execution_count": null,
   "metadata": {},
   "outputs": [],
   "source": []
  },
  {
   "cell_type": "code",
   "execution_count": null,
   "metadata": {},
   "outputs": [],
   "source": []
  }
 ],
 "metadata": {
  "kernelspec": {
   "display_name": "Python 3",
   "language": "python",
   "name": "python3"
  },
  "language_info": {
   "codemirror_mode": {
    "name": "ipython",
    "version": 3
   },
   "file_extension": ".py",
   "mimetype": "text/x-python",
   "name": "python",
   "nbconvert_exporter": "python",
   "pygments_lexer": "ipython3",
   "version": "3.6.3"
  }
 },
 "nbformat": 4,
 "nbformat_minor": 2
}
